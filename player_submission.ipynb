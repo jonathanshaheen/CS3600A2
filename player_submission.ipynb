{
 "cells": [
  {
   "cell_type": "markdown",
   "metadata": {},
   "source": [
    "# Assignment 1 - Swap Isolation"
   ]
  },
  {
   "cell_type": "markdown",
   "metadata": {},
   "source": [
    "## The Code"
   ]
  },
  {
   "cell_type": "markdown",
   "metadata": {},
   "source": [
    "This file is your main submission that will be graded against. Do not add any classes or functions to this file that are not part of the classes that we want.\n",
    "\n",
    "In addition, pay close attention to the text interspersed throughout the notebook. We try to give you an idea of what functions may be useful and what test cases we would expect you to pass. Also remember that we only grade your **last** submission, so be careful if your agent is not being consistent in its win-rate.\n",
    "\n",
    "In case we haven't got this into your heads enough: **start early!!** It is entirely possible, and probably likely, that a large part of your next 2 weeks will be devoted to this assignment, but we hope that it is worth and you really enjoy the assignment! Good luck!!"
   ]
  },
  {
   "cell_type": "markdown",
   "metadata": {},
   "source": [
    "If you have discussed this assignment at a whiteboard level or you have external resources (not provided) that you may want to cite, please do so in this cell!"
   ]
  },
  {
   "cell_type": "markdown",
   "metadata": {},
   "source": [
    "## Importing External Modules"
   ]
  },
  {
   "cell_type": "code",
   "execution_count": null,
   "metadata": {},
   "outputs": [],
   "source": [
    "#!/usr/bin/env python\n",
    "%load_ext autoreload\n",
    "%autoreload 2\n",
    "import player_submission_tests as tests\n",
    "from test_players import HumanPlayer, RandomPlayer\n",
    "from board_vis import BoardGrid"
   ]
  },
  {
   "cell_type": "code",
   "execution_count": null,
   "metadata": {},
   "outputs": [],
   "source": [
    "#export\n",
    "from isolation import Board, game_as_text\n",
    "import random\n",
    "from random import randint\n",
    "import time\n",
    "import platform\n",
    "if platform.system() != 'Windows':\n",
    "    import resource"
   ]
  },
  {
   "cell_type": "markdown",
   "metadata": {},
   "source": [
    "## Visualization\n",
    "Here, we give you a way of visualizing the board history after having played a game of swap isolation. We basically have you run a game that pits you against the random player and then you can look at the move history of this game and see how the game works for yourself."
   ]
  },
  {
   "cell_type": "code",
   "execution_count": null,
   "metadata": {
    "scrolled": false
   },
   "outputs": [],
   "source": [
    "game = Board(RandomPlayer(), HumanPlayer(), 7, 7)\n",
    "winner, move_history, termination = game.play_isolation(time_limit=100000000, print_moves=False)\n",
    "\n",
    "# Catch game timeouts\n",
    "timed_out = None\n",
    "if \"timed out\" in termination:\n",
    "    timed_out = True\n",
    "else:\n",
    "    timed_out = False\n",
    "    \n",
    "bg = BoardGrid(game, move_history, timed_out, show_legal_moves=True)\n",
    "bg.show_board()"
   ]
  },
  {
   "cell_type": "markdown",
   "metadata": {},
   "source": [
    "# Your code goes below this cell. Hope you have a blast!"
   ]
  },
  {
   "cell_type": "markdown",
   "metadata": {},
   "source": [
    "## OpenMoveEvalFn\n",
    "- This is where you write your evaluation function to evaluate the state of the board.\n",
    "- Test cases the below code is expected to pass: The first 5 points (as specified in the README).\n",
    "- Useful functions: Python's built-in len() method could be of use here.\n",
    "- Hints: This needs to work for when either your agent or the opponent is making a move. In other words, perspective is important."
   ]
  },
  {
   "cell_type": "code",
   "execution_count": null,
   "metadata": {},
   "outputs": [],
   "source": [
    "#export\n",
    "class OpenMoveEvalFn:\n",
    "\n",
    "    def score(self, game, my_turn=True):\n",
    "        \"\"\"Score the current game state\n",
    "\n",
    "        Evaluation function that outputs a score equal to how many\n",
    "        moves are open for AI player on the board minus how many moves\n",
    "        are open for Opponent's player on the board.\n",
    "        Note:\n",
    "            1. Be very careful while doing opponent's moves. You might end up\n",
    "               reducing your own moves.\n",
    "            3. If you think of better evaluation function, do it in CustomEvalFn below.\n",
    "\n",
    "            Args\n",
    "                param1 (Board): The board and game state.\n",
    "                param2 (bool): True if maximizing player is active.\n",
    "\n",
    "            Returns:\n",
    "                float: The current state's score. MyMoves-OppMoves.\n",
    "\n",
    "            \"\"\"\n",
    "\n",
    "        # TODO: finish this function!\n",
    "        raise NotImplementedError\n",
    "\n",
    "########## DON'T WRITE ANY CODE OUTSIDE THE FUNCTION! ################\n",
    "##### CODE BELOW IS USED FOR RUNNING LOCAL TEST DON'T MODIFY IT ######\n",
    "tests.correctOpenEvalFn(OpenMoveEvalFn)\n",
    "################ END OF LOCAL TEST CODE SECTION ######################"
   ]
  },
  {
   "cell_type": "markdown",
   "metadata": {},
   "source": [
    "## About the local test above\n",
    "If you want to edit the test (which you most definitely can), then edit the source code back in player_submission_tests.py. We want to keep things consistent with this notebook."
   ]
  },
  {
   "cell_type": "markdown",
   "metadata": {},
   "source": [
    "## CustomPlayer\n",
    "- This is where you are given some methods to use later on in the minimax() and alphabeta() methods. You may wish to modify these, and you are free to do so with some restrictions:\n",
    "    - You need to make sure that if you add any additional parameters, they are also given default values. Do not expect the server-side (i.e. Gradescope) to assign values to those parameters."
   ]
  },
  {
   "cell_type": "code",
   "execution_count": null,
   "metadata": {},
   "outputs": [],
   "source": [
    "#export\n",
    "class CustomPlayer:\n",
    "    # TODO: finish this class!\n",
    "    \"\"\"Player that chooses a move using your evaluation function\n",
    "    and a minimax algorithm with alpha-beta pruning.\n",
    "    You must finish and test this player to make sure it properly\n",
    "    uses minimax and alpha-beta to return a good move.\"\"\"\n",
    "\n",
    "    def __init__(self, search_depth=3, eval_fn=OpenMoveEvalFn()):\n",
    "        \"\"\"Initializes your player.\n",
    "        \n",
    "        if you find yourself with a superior eval function, update the default\n",
    "        value of `eval_fn` to `CustomEvalFn()`\n",
    "        \n",
    "        Args:\n",
    "            search_depth (int): The depth to which your agent will search\n",
    "            eval_fn (function): Utility function used by your agent\n",
    "        \"\"\"\n",
    "        self.eval_fn = eval_fn\n",
    "        self.search_depth = search_depth\n",
    "    \n",
    "    def move(self, game, legal_moves, time_left):\n",
    "\n",
    "        \"\"\"Called to determine one move by your agent\n",
    "        \n",
    "            Note:\n",
    "                1. Do NOT change the name of this 'move' function. We are going to call\n",
    "                the this function directly.\n",
    "                2. Change the name of minimax function to alphabeta function when\n",
    "                required. Here we are talking about 'minimax' function call,\n",
    "                NOT 'move' function name.\n",
    "                Args:\n",
    "                game (Board): The board and game state.\n",
    "                legal_moves (list): List of legal moves\n",
    "                time_left (function): Used to determine time left before timeout\n",
    "                \n",
    "            Returns:\n",
    "                tuple: best_move\n",
    "            \"\"\"\n",
    "\n",
    "        best_move, utility = minimax(self, game, time_left, depth=self.search_depth)\n",
    "        return best_move\n",
    "\n",
    "    def utility(self, game, my_turn):\n",
    "        \"\"\"Can be updated if desired. Not compulsory.\"\"\"\n",
    "        return self.eval_fn.score(game, maximizing_player)"
   ]
  },
  {
   "cell_type": "markdown",
   "metadata": {},
   "source": [
    "## And now for the meat of the assignment"
   ]
  },
  {
   "cell_type": "markdown",
   "metadata": {},
   "source": [
    "## Minimax\n",
    "- This is where you will implement the minimax algorithm. The final output of your minimax should come from this method and this is the only method that Gradescope will call when testing minimax.\n",
    "- Test cases the below code is expected to pass: The first 30 points (as specified in the README).\n",
    "- Useful functions: The useful methods will probably all come from isolation.py. A couple of particularly interesting ones could be forecast_move() and your score() method from OpenMoveEvalFn. Remember the double question mark trick from Assignment 0 if you feel you are flipping between files too much!\n",
    "- Hints: Remember that perspective hint from before? If you did not realize what it meant and made a slight error there, you may catch it here."
   ]
  },
  {
   "cell_type": "code",
   "execution_count": null,
   "metadata": {},
   "outputs": [],
   "source": [
    "#export\n",
    "def minimax(player, game, time_left, depth, my_turn=True):\n",
    "    \"\"\"Implementation of the minimax algorithm.\n",
    "    \n",
    "    Args:\n",
    "        game (Board): A board and game state.\n",
    "        time_left (function): Used to determine time left before timeout\n",
    "        depth: Used to track how deep you are in the search tree\n",
    "        maximizing_player (bool): True if maximizing player is active.\n",
    "        \n",
    "    Returns:\n",
    "        (tuple, int): best_move, val\n",
    "    \"\"\"\n",
    "    # TODO: finish this function!\n",
    "    raise NotImplementedError\n",
    "    return best_move, best_val\n",
    "\n",
    "########## DON'T WRITE ANY CODE OUTSIDE THE FUNCTION! ################\n",
    "##### CODE BELOW IS USED FOR RUNNING LOCAL TEST DON'T MODIFY IT ######\n",
    "tests.beatRandom(CustomPlayer)\n",
    "tests.minimaxTest(CustomPlayer, minimax)\n",
    "################ END OF LOCAL TEST CODE SECTION ######################"
   ]
  },
  {
   "cell_type": "markdown",
   "metadata": {},
   "source": [
    "## About the local test above\n",
    "If you want to edit the test (which you most definitely can), then edit the source code back in player_submission_tests.py. We want to keep things consistent with this notebook.\n",
    "\n",
    "Notice that we have not really adjusted the beatRandom() method to test a Random player against your agent. How would you adjust that test to see if your custom player can beat a random player?"
   ]
  },
  {
   "cell_type": "markdown",
   "metadata": {},
   "source": [
    "## AlphaBeta\n",
    "- This is where you will implement the alphabeta algorithm. The final output of your alphabeta should come from this method and this is the only method that Gradescope will call when testing alphabeta.\n",
    "- Test cases the below code is expected to pass: Minimax level 2 >= 65% of the time\n",
    "- Useful functions: The useful methods will probably all come from isolation.py. A couple of particularly interesting ones could be forecast_move() and your score() method from OpenMoveEvalFn. Remember the double question mark trick from Assignment 0 if you feel you are flipping between files too much!\n",
    "- Hints: Remember a key point of alphabeta: your final answer will always be the same as if you implemented minimax, but you will get that answer a lot faster."
   ]
  },
  {
   "cell_type": "code",
   "execution_count": null,
   "metadata": {},
   "outputs": [],
   "source": [
    "#export\n",
    "def alphabeta(player, game, time_left, depth, alpha=float(\"-inf\"), beta=float(\"inf\"), my_turn=True):\n",
    "    \"\"\"Implementation of the alphabeta algorithm.\n",
    "    \n",
    "    Args:\n",
    "        game (Board): A board and game state.\n",
    "        time_left (function): Used to determine time left before timeout\n",
    "        depth: Used to track how deep you are in the search tree\n",
    "        alpha (float): Alpha value for pruning\n",
    "        beta (float): Beta value for pruning\n",
    "        maximizing_player (bool): True if maximizing player is active.\n",
    "        \n",
    "    Returns:\n",
    "        (tuple, int): best_move, val\n",
    "    \"\"\"\n",
    "    # TODO: finish this function!\n",
    "    raise NotImplementedError\n",
    "    return best_move, val"
   ]
  },
  {
   "cell_type": "markdown",
   "metadata": {},
   "source": [
    "## About the lack of a local test above\n",
    "Notice that we do not have any code here. We want you to learn to write your own test cases, so feel free to get creative! You can always create the test in player_submission_tests.py and then run it over here in a manner identical to how local tests have been run so far."
   ]
  },
  {
   "cell_type": "markdown",
   "metadata": {},
   "source": [
    "## That does not cover all 100 points though!\n",
    "- You're right, and that's on purpose. Each of the bullets below try to walk you through how you may want to think about beating the remaining agents.\n",
    "    - First up is the alphabeta agent. Vanilla alphabeta (that is, alphabeta with no optimization) may not do so well against this agent. However, any agent that searches deeper with the same algorithm probably has a bigger advantage. You may learn about a method that allows your algorithm to search in such a way that you can find the maximum search depth without running out of time. This will probably come up in class or you can read through the book to find out what you are looking for.\n",
    "    - Next is the agent with iterative deepening (yes, I know that I just gave away the answer). This one is a little harder to think about, given that you may have used all the tools that you may think of to try a make a \"better\" agent. But you may have just implemented the evaluation function that was discussed in class. Maybe we can do better - like checking for winning moves and prioritizing those! Or if you are feeling really creative, you can always try editing the \"CustomEvalFn\" at the bottom of this notebook and come up with an awesome idea of your own.\n",
    "    - Now to that agent with the evaluation function. I have nothing to say. Unfortunately, the TAs cannot say anything about what it will take to beat this agent and that is so that we can see what you all can come up with. Use everything in your toolbox and within the class rules to defeat it. And as always: good luck and have fun!\n",
    "    \n",
    "- Remember that you may want to edit the methods in the cell with the CustomPlayer class to try and implement some of the above. You are certainly free too as long as you don't change the function signatures (other than that little caveat that was mentioned in the cell above that code)."
   ]
  },
  {
   "cell_type": "markdown",
   "metadata": {},
   "source": [
    "## CustomEvalFn\n",
    "- Go crazy with how you want to design your own evaluation function. The typical rules about how you can and cannot edit the code we have given (namely, the function signature rules) apply here."
   ]
  },
  {
   "cell_type": "code",
   "execution_count": null,
   "metadata": {},
   "outputs": [],
   "source": [
    "#export\n",
    "class CustomEvalFn:\n",
    "    def __init__(self):\n",
    "        pass\n",
    "\n",
    "    def score(self, game, maximizing_player_turn=True):\n",
    "        \"\"\"Score the current game state.\n",
    "        \n",
    "        Custom evaluation function that acts however you think it should. This\n",
    "        is not required but highly encouraged if you want to build the best\n",
    "        AI possible.\n",
    "        \n",
    "        Args:\n",
    "            game (Board): The board and game state.\n",
    "            maximizing_player_turn (bool): True if maximizing player is active.\n",
    "            \n",
    "        Returns:\n",
    "            float: The current state's score, based on your own heuristic.\n",
    "        \"\"\"\n",
    "\n",
    "        # TODO: finish this function!\n",
    "        raise NotImplementedError"
   ]
  }
 ],
 "metadata": {
  "kernelspec": {
   "display_name": "Python 3",
   "language": "python",
   "name": "python3"
  },
  "language_info": {
   "codemirror_mode": {
    "name": "ipython",
    "version": 3
   },
   "file_extension": ".py",
   "mimetype": "text/x-python",
   "name": "python",
   "nbconvert_exporter": "python",
   "pygments_lexer": "ipython3",
   "version": "3.7.1"
  }
 },
 "nbformat": 4,
 "nbformat_minor": 2
}
